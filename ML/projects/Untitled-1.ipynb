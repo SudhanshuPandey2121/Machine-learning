{
 "cells": [
  {
   "attachments": {},
   "cell_type": "markdown",
   "metadata": {},
   "source": [
    "first notebook\n"
   ]
  },
  {
   "cell_type": "code",
   "execution_count": 1,
   "metadata": {},
   "outputs": [
    {
     "name": "stdout",
     "output_type": "stream",
     "text": [
      "hello world\n"
     ]
    }
   ],
   "source": [
    "print('hello world')"
   ]
  },
  {
   "cell_type": "code",
   "execution_count": 3,
   "metadata": {},
   "outputs": [
    {
     "name": "stdout",
     "output_type": "stream",
     "text": [
      "Requirement already satisfied: pandas in c:\\users\\admin\\appdata\\local\\programs\\python\\python312\\lib\\site-packages (2.2.1)"
     ]
    },
    {
     "name": "stderr",
     "output_type": "stream",
     "text": [
      "\n",
      "[notice] A new release of pip is available: 24.0 -> 24.2\n",
      "[notice] To update, run: python.exe -m pip install --upgrade pip\n"
     ]
    },
    {
     "name": "stdout",
     "output_type": "stream",
     "text": [
      "\n",
      "Requirement already satisfied: numpy<2,>=1.26.0 in c:\\users\\admin\\appdata\\local\\programs\\python\\python312\\lib\\site-packages (from pandas) (1.26.4)\n",
      "Requirement already satisfied: python-dateutil>=2.8.2 in c:\\users\\admin\\appdata\\local\\programs\\python\\python312\\lib\\site-packages (from pandas) (2.8.2)\n",
      "Requirement already satisfied: pytz>=2020.1 in c:\\users\\admin\\appdata\\local\\programs\\python\\python312\\lib\\site-packages (from pandas) (2024.1)\n",
      "Requirement already satisfied: tzdata>=2022.7 in c:\\users\\admin\\appdata\\local\\programs\\python\\python312\\lib\\site-packages (from pandas) (2024.1)\n",
      "Requirement already satisfied: six>=1.5 in c:\\users\\admin\\appdata\\local\\programs\\python\\python312\\lib\\site-packages (from python-dateutil>=2.8.2->pandas) (1.16.0)\n"
     ]
    }
   ],
   "source": [
    "!pip install pandas"
   ]
  },
  {
   "cell_type": "code",
   "execution_count": 2,
   "metadata": {},
   "outputs": [
    {
     "name": "stdout",
     "output_type": "stream",
     "text": [
      "hi\n"
     ]
    }
   ],
   "source": [
    "print(\"hi\")"
   ]
  },
  {
   "cell_type": "code",
   "execution_count": 4,
   "metadata": {},
   "outputs": [
    {
     "name": "stdout",
     "output_type": "stream",
     "text": [
      "Collecting requests\n",
      "  Downloading requests-2.32.3-py3-none-any.whl.metadata (4.6 kB)\n",
      "Collecting charset-normalizer<4,>=2 (from requests)\n",
      "  Downloading charset_normalizer-3.3.2-cp312-cp312-win_amd64.whl.metadata (34 kB)\n",
      "Collecting idna<4,>=2.5 (from requests)\n",
      "  Downloading idna-3.8-py3-none-any.whl.metadata (9.9 kB)\n",
      "Collecting urllib3<3,>=1.21.1 (from requests)\n",
      "  Downloading urllib3-2.2.2-py3-none-any.whl.metadata (6.4 kB)\n",
      "Collecting certifi>=2017.4.17 (from requests)\n",
      "  Downloading certifi-2024.7.4-py3-none-any.whl.metadata (2.2 kB)\n",
      "Downloading requests-2.32.3-py3-none-any.whl (64 kB)\n",
      "   ---------------------------------------- 0.0/64.9 kB ? eta -:--:--\n",
      "   ------------------ --------------------- 30.7/64.9 kB 1.3 MB/s eta 0:00:01\n",
      "   ---------------------------------------- 64.9/64.9 kB 868.1 kB/s eta 0:00:00\n",
      "Downloading certifi-2024.7.4-py3-none-any.whl (162 kB)\n",
      "   ---------------------------------------- 0.0/163.0 kB ? eta -:--:--\n",
      "   -- ------------------------------------- 10.2/163.0 kB ? eta -:--:--\n",
      "   -------------------- ------------------- 81.9/163.0 kB 1.6 MB/s eta 0:00:01\n",
      "   --------------------------- ------------ 112.6/163.0 kB 1.1 MB/s eta 0:00:01\n",
      "   ------------------------------------- -- 153.6/163.0 kB 1.0 MB/s eta 0:00:01\n",
      "   -------------------------------------- 163.0/163.0 kB 979.0 kB/s eta 0:00:00\n",
      "Downloading charset_normalizer-3.3.2-cp312-cp312-win_amd64.whl (100 kB)\n",
      "   ---------------------------------------- 0.0/100.4 kB ? eta -:--:--\n",
      "   ------------------------ --------------- 61.4/100.4 kB 1.6 MB/s eta 0:00:01\n",
      "   ---------------------------------------- 100.4/100.4 kB 1.1 MB/s eta 0:00:00\n",
      "Downloading idna-3.8-py3-none-any.whl (66 kB)\n",
      "   ---------------------------------------- 0.0/66.9 kB ? eta -:--:--\n",
      "   ------------------ --------------------- 30.7/66.9 kB 435.7 kB/s eta 0:00:01\n",
      "   ---------------------------------------- 66.9/66.9 kB 602.7 kB/s eta 0:00:00\n",
      "Downloading urllib3-2.2.2-py3-none-any.whl (121 kB)\n",
      "   ---------------------------------------- 0.0/121.4 kB ? eta -:--:--\n",
      "   ---------- ----------------------------- 30.7/121.4 kB 1.3 MB/s eta 0:00:01\n",
      "   ------------------------------------- -- 112.6/121.4 kB 1.6 MB/s eta 0:00:01\n",
      "   ---------------------------------------- 121.4/121.4 kB 1.4 MB/s eta 0:00:00\n",
      "Installing collected packages: urllib3, idna, charset-normalizer, certifi, requests\n",
      "Successfully installed certifi-2024.7.4 charset-normalizer-3.3.2 idna-3.8 requests-2.32.3 urllib3-2.2.2\n"
     ]
    },
    {
     "name": "stderr",
     "output_type": "stream",
     "text": [
      "\n",
      "[notice] A new release of pip is available: 24.0 -> 24.2\n",
      "[notice] To update, run: python.exe -m pip install --upgrade pip\n"
     ]
    }
   ],
   "source": [
    "!pip install requests"
   ]
  },
  {
   "cell_type": "code",
   "execution_count": 5,
   "metadata": {},
   "outputs": [
    {
     "name": "stdout",
     "output_type": "stream",
     "text": [
      "Total articles found: 3191\n",
      "Title: Diplomatic tightrope for Modi as he visits Kyiv after Moscow\n",
      "Source: BBC News\n",
      "Published At: 2024-08-22T10:00:02Z\n",
      "URL: https://www.bbc.com/news/articles/cx2e9zrywq9o\n",
      "-----\n",
      "\n",
      "Title: Who is Vinesh Phogat, the wrestler who lost an Olympic medal over her weight?\n",
      "Source: NPR\n",
      "Published At: 2024-08-07T17:35:14Z\n",
      "URL: https://www.npr.org/2024/08/07/nx-s1-5066650/who-is-vinesh-phogat-the-wrestler-who-lost-an-olympic-medal-over-her-weight\n",
      "-----\n",
      "\n",
      "Title: Landslides caused by heavy rains kill 49 and bury many others in southern India\n",
      "Source: NPR\n",
      "Published At: 2024-07-30T08:00:40Z\n",
      "URL: https://www.npr.org/2024/07/30/nx-s1-5057110/landslides-kill-49-southern-india\n",
      "-----\n",
      "\n",
      "Title: Twenty-four dead, dozens trapped in India landslides\n",
      "Source: BBC News\n",
      "Published At: 2024-07-30T05:27:18Z\n",
      "URL: https://www.bbc.com/news/articles/c51y7k2y7v1o\n",
      "-----\n",
      "\n",
      "Title: Tear gas fired at protesters angry at Indian doctor's murder\n",
      "Source: BBC News\n",
      "Published At: 2024-08-27T13:14:47Z\n",
      "URL: https://www.bbc.com/news/articles/cyvpgd6rlqyo\n",
      "-----\n",
      "\n",
      "Title: Tens of Thousands of Women Protest on India’s Independence Day After Murder of Medic\n",
      "Source: Time\n",
      "Published At: 2024-08-15T18:22:30Z\n",
      "URL: https://time.com/7011373/india-kolkata-rape-reclaim-night-march/\n",
      "-----\n",
      "\n",
      "Title: Can India broker peace between Russia and Ukraine?\n",
      "Source: Al Jazeera English\n",
      "Published At: 2024-08-22T11:22:48Z\n",
      "URL: https://www.aljazeera.com/features/2024/8/22/can-india-broker-peace-between-russia-and-ukraine\n",
      "-----\n",
      "\n",
      "Title: Can India help its special ally Bangladesh defuse the crisis?\n",
      "Source: BBC News\n",
      "Published At: 2024-08-05T13:32:27Z\n",
      "URL: https://www.bbc.com/news/articles/c39kkkdjkzwo\n",
      "-----\n",
      "\n",
      "Title: Waiting for peace in Indian state divided by violence\n",
      "Source: BBC News\n",
      "Published At: 2024-08-09T03:05:03Z\n",
      "URL: https://www.bbc.com/news/articles/cz9delg2y1ro\n",
      "-----\n",
      "\n",
      "Title: India steps up border security after Bangladesh crisis\n",
      "Source: BBC News\n",
      "Published At: 2024-08-06T06:30:30Z\n",
      "URL: https://www.bbc.com/news/articles/c93ppx7lg0go\n",
      "-----\n",
      "\n",
      "Title: Foxconn chief dodges accusation of discrimination in India hiring practices\n",
      "Source: AppleInsider\n",
      "Published At: 2024-08-17T20:53:51Z\n",
      "URL: https://appleinsider.com/articles/24/08/17/foxconn-chief-dodges-accusation-of-discrimination-in-india-hiring-practices\n",
      "-----\n",
      "\n",
      "Title: India’s Modi arrives in Kyiv for talks with Ukrainian President Zelenskyy\n",
      "Source: Al Jazeera English\n",
      "Published At: 2024-08-23T09:27:57Z\n",
      "URL: https://www.aljazeera.com/news/2024/8/23/indias-modi-arrives-in-kyiv-for-talks-with-ukrainian-president-zelenskyy\n",
      "-----\n",
      "\n",
      "Title: Hindenburg alleges India market regulator chief held stake in offshore funds used by Adani Group\n",
      "Source: Yahoo Entertainment\n",
      "Published At: 2024-08-10T17:03:26Z\n",
      "URL: https://sg.finance.yahoo.com/news/hindenburg-research-alleges-india-market-170326805.html\n",
      "-----\n",
      "\n",
      "Title: Ukraine’s Zelenskyy visits Sumy border area near Kursk incursion zone\n",
      "Source: Al Jazeera English\n",
      "Published At: 2024-08-22T12:15:47Z\n",
      "URL: https://www.aljazeera.com/news/2024/8/22/ukraines-zelenskyy-visits-sumy-border-area-near-kursk-incursion-zone\n",
      "-----\n",
      "\n",
      "Title: Johnny Depp’s ‘Modi – Three Days On The Wing Of Madness’ To Debut At San Sebastián\n",
      "Source: Deadline\n",
      "Published At: 2024-08-20T09:13:16Z\n",
      "URL: http://deadline.com/2024/08/johnny-depp-modi-three-days-on-the-wing-of-madness-san-sebastian-film-festival-2024-1236044644/\n",
      "-----\n",
      "\n",
      "Title: Shop My Baby Registry—Bobbie CEO And Cofounder Laura Modi\n",
      "Source: Forbes\n",
      "Published At: 2024-08-12T21:26:01Z\n",
      "URL: https://www.forbes.com/sites/forbes-personal-shopper/2024/08/12/shop-my-baby-registry-bobbie-ceo-and-cofounder-laura-modi/\n",
      "-----\n",
      "\n",
      "Title: Russia-Ukraine war: List of key events, day 914\n",
      "Source: Al Jazeera English\n",
      "Published At: 2024-08-27T01:03:13Z\n",
      "URL: https://www.aljazeera.com/news/2024/8/27/russia-ukraine-war-list-of-key-events-day-914\n",
      "-----\n",
      "\n",
      "Title: India's Modi Urges Zelensky To The Negotiating Table In Historic First Ukraine Visit\n",
      "Source: Biztoc.com\n",
      "Published At: 2024-08-23T14:20:00Z\n",
      "URL: https://biztoc.com/x/4a9ac1f9457fdf1e\n",
      "-----\n",
      "\n",
      "Title: India's Modi government pulls key policies, bills after backlash\n",
      "Source: Biztoc.com\n",
      "Published At: 2024-08-26T09:21:47Z\n",
      "URL: https://biztoc.com/x/6bfbde3fd7bd1369\n",
      "-----\n",
      "\n",
      "Title: India to launch Gaganyaan crew capsule test flight by end of 2024\n",
      "Source: Space.com\n",
      "Published At: 2024-08-27T10:00:01Z\n",
      "URL: https://www.space.com/india-gaganyaan-astronaut-capsule-test-flight-december-2024\n",
      "-----\n",
      "\n"
     ]
    }
   ],
   "source": [
    "import requests\n",
    "import json\n",
    "\n",
    "# Replace with your actual NewsAPI key\n",
    "API_KEY = '271fc8efcd744d23a8f06cfe46240267'\n",
    "\n",
    "def get_news_mentions(politician_name, api_key, page_size=20, page=1):\n",
    "    url = 'https://newsapi.org/v2/everything'\n",
    "    \n",
    "    # Parameters for the API request\n",
    "    params = {\n",
    "        'q': politician_name,  # Query term (politician's name)\n",
    "        'pageSize': page_size,  # Number of results per page\n",
    "        'page': page,           # Page number for pagination\n",
    "        'apiKey': api_key,      # Your API key\n",
    "        'sortBy': 'relevancy',  # Sort by relevance\n",
    "        'language': 'en',       # Language of articles\n",
    "    }\n",
    "    \n",
    "    # Make the API request\n",
    "    response = requests.get(url, params=params)\n",
    "    \n",
    "    # Check if the request was successful\n",
    "    if response.status_code == 200:\n",
    "        data = response.json()\n",
    "        return data\n",
    "    else:\n",
    "        print(f\"Failed to fetch news articles: {response.status_code}\")\n",
    "        return None\n",
    "\n",
    "# Example usage\n",
    "politician_name = 'Modi'  # Replace with the name of the politician\n",
    "news_data = get_news_mentions(politician_name, API_KEY)\n",
    "\n",
    "if news_data:\n",
    "    print(f\"Total articles found: {news_data['totalResults']}\")\n",
    "    for article in news_data['articles']:\n",
    "        print(f\"Title: {article['title']}\")\n",
    "        print(f\"Source: {article['source']['name']}\")\n",
    "        print(f\"Published At: {article['publishedAt']}\")\n",
    "        print(f\"URL: {article['url']}\")\n",
    "        print(\"-----\\n\")\n",
    "\n",
    "# Save the fetched data to a JSON file\n",
    "with open(f'{politician_name}_news_mentions.json', 'w') as outfile:\n",
    "    json.dump(news_data, outfile, indent=4)\n"
   ]
  }
 ],
 "metadata": {
  "kernelspec": {
   "display_name": "Python 3",
   "language": "python",
   "name": "python3"
  },
  "language_info": {
   "codemirror_mode": {
    "name": "ipython",
    "version": 3
   },
   "file_extension": ".py",
   "mimetype": "text/x-python",
   "name": "python",
   "nbconvert_exporter": "python",
   "pygments_lexer": "ipython3",
   "version": "3.12.1"
  },
  "orig_nbformat": 4
 },
 "nbformat": 4,
 "nbformat_minor": 2
}
